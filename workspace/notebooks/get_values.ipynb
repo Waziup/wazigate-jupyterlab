{
 "cells": [
  {
   "cell_type": "markdown",
   "id": "b0aa6762-a89a-4c03-b585-f192b71ec0c8",
   "metadata": {},
   "source": [
    "<h1>How to retrieve values from the WaziCloud platform</h1>"
   ]
  },
  {
   "cell_type": "markdown",
   "id": "4b2277e8-d7c8-41e4-ae86-33b447d1c3e4",
   "metadata": {},
   "source": [
    "Get desired values via the **curl** command. \n",
    "\n",
    "You can get an overview about the possible queries from WaziCloud by visiting [Swagger](https://api.waziup.io/docs/#/Sensors/get_devices__device_id__sensors__sensor_id__values \"Swagger\").\n",
    "All you need is your **device_id** and the **sensor_id**, you can find them by visiting the [WaziCloud](https://dashboard.waziup.io/ \"WaziCloud\")."
   ]
  },
  {
   "cell_type": "markdown",
   "id": "31ec23ef-bc40-4c63-81cf-1795a1192d17",
   "metadata": {},
   "source": [
    "response = !curl -s -X GET \"https://api.waziup.io/api/v2/devices/0242ac1200023852/sensors/temperatureSensor_0/values\" -H \"accept: application/json;charset=utf-8\"\n",
    "print (\"This is the response: \\n\\n\",response)"
   ]
  },
  {
   "cell_type": "markdown",
   "id": "bb04376d-17a4-4004-b2a9-c63dcb7ae195",
   "metadata": {},
   "source": [
    "We can create a **list** from the **JSON** to organize our values:"
   ]
  },
  {
   "cell_type": "code",
   "execution_count": null,
   "id": "8c9545af-0b20-4502-843c-8b88118eeac5",
   "metadata": {},
   "outputs": [],
   "source": [
    "import json\n",
    "# Opening JSON file\n",
    "\n",
    "print(type(response))\n",
    "rep_str = str(response).replace(\"'\",'')\n",
    "print(type(rep_str))\n",
    "\n",
    "# create JSON list\n",
    "response_list = json.loads(rep_str)\n",
    "\n",
    "# Print first value\n",
    "print(response_list[0][0])"
   ]
  },
  {
   "cell_type": "code",
   "execution_count": null,
   "id": "c1f9775d-fbce-4782-8d19-64cc4f2197ce",
   "metadata": {},
   "outputs": [],
   "source": [
    "# Get temparature of first \"value\"\n",
    "print(\"First value: \", response_list[0][0][\"value\"])\n",
    "print(\"Values in total: \", len(response_list[0]))"
   ]
  },
  {
   "cell_type": "markdown",
   "id": "c346eab3-56a1-4271-8e59-66b9ae82eeb5",
   "metadata": {},
   "source": [
    "Or an **NumPy** ndarray:"
   ]
  },
  {
   "cell_type": "code",
   "execution_count": null,
   "id": "d18f9b88-d0b3-411a-adca-8e7d7b1b0496",
   "metadata": {},
   "outputs": [],
   "source": [
    "import numpy as np\n",
    "\n",
    "temp_vals = np.array([])\n",
    "\n",
    "for n in range(len(response_list[0])):\n",
    "    temp_vals = np.append(temp_vals, response_list[0][n][\"value\"], axis=None)\n",
    "\n",
    "print(\"Temperature values: \",temp_vals)"
   ]
  },
  {
   "cell_type": "markdown",
   "id": "1a25a70a-0740-4b6a-8f85-59f5ea961e2a",
   "metadata": {},
   "source": [
    "Plot the values, with **Matplotlib**:"
   ]
  },
  {
   "cell_type": "code",
   "execution_count": null,
   "id": "936a1dca-4e62-420a-b5d8-b3961e70e724",
   "metadata": {},
   "outputs": [],
   "source": [
    "import matplotlib.pyplot as plt\n",
    "\n",
    "plt.plot(temp_vals)\n",
    "plt.show()"
   ]
  }
 ],
 "metadata": {
  "kernelspec": {
   "display_name": "Python 3 (ipykernel)",
   "language": "python",
   "name": "python3"
  },
  "language_info": {
   "codemirror_mode": {
    "name": "ipython",
    "version": 3
   },
   "file_extension": ".py",
   "mimetype": "text/x-python",
   "name": "python",
   "nbconvert_exporter": "python",
   "pygments_lexer": "ipython3",
   "version": "3.7.11"
  }
 },
 "nbformat": 4,
 "nbformat_minor": 5
}
