{
 "cells": [
  {
   "cell_type": "markdown",
   "id": "720fdf04-1b65-4959-9065-238d43d6dc48",
   "metadata": {},
   "source": [
    "<h1>This is how you can install several packages for machine learning</h1>\n",
    "\n",
    "In order to not increase the file size of the docker image, some packages can be installed by users, just run the cells below to get the respective package."
   ]
  },
  {
   "cell_type": "markdown",
   "id": "9e772ddf-e40b-4e50-9027-6e246371e61d",
   "metadata": {},
   "source": [
    "<h3>Tensorflow 2.4.0</h3>\n",
    "\n",
    "Just run the cell below and get a cup of coffee, it takes some time."
   ]
  },
  {
   "cell_type": "code",
   "execution_count": null,
   "id": "ee066e36-b04b-420c-ac24-66edfa7fa4c7",
   "metadata": {},
   "outputs": [],
   "source": [
    "# tensorflow is not available for armv7l and python 3.7.12, so we have to get it from a third party source\n",
    "!wget https://github.com/lhelontra/tensorflow-on-arm/releases/download/v2.4.0/tensorflow-2.4.0-cp37-none-linux_armv7l.whl\n",
    "!apt-get install -y pkg-config\n",
    "!apt install libhdf5-dev\n",
    "!pip install tensorflow-2.4.0-cp37-none-linux_armv7l.whl\n",
    "!pip install -U numpy\n",
    "!rm tensorflow-2.4.0-cp37-none-linux_armv7l.whl"
   ]
  },
  {
   "cell_type": "markdown",
   "id": "49b4d511-87a4-482c-9005-f63c12777c49",
   "metadata": {},
   "source": [
    "Test installation:"
   ]
  },
  {
   "cell_type": "code",
   "execution_count": 5,
   "id": "c29656d1-cb0a-4938-b3a6-6e212db94c8f",
   "metadata": {},
   "outputs": [],
   "source": [
    "import tensorflow"
   ]
  },
  {
   "cell_type": "markdown",
   "id": "15ec6926-e6ed-4e96-af49-462a05815105",
   "metadata": {},
   "source": [
    "<h3>Keras</h3>"
   ]
  },
  {
   "cell_type": "markdown",
   "id": "82babbe3-c5c6-46db-960b-5a41c57eea76",
   "metadata": {},
   "source": [
    "Keras installation is pretty straight forward and fast."
   ]
  },
  {
   "cell_type": "code",
   "execution_count": 12,
   "id": "8c76eb29-8b5f-434b-b1cd-4bc87083947e",
   "metadata": {},
   "outputs": [
    {
     "name": "stdout",
     "output_type": "stream",
     "text": [
      "Requirement already satisfied: keras in /usr/local/lib/python3.7/site-packages (2.7.0)\n",
      "\u001b[33mWARNING: Running pip as the 'root' user can result in broken permissions and conflicting behaviour with the system package manager. It is recommended to use a virtual environment instead: https://pip.pypa.io/warnings/venv\u001b[0m\n"
     ]
    }
   ],
   "source": [
    "!pip install keras"
   ]
  },
  {
   "cell_type": "markdown",
   "id": "98638926-f472-4bad-937e-7afb54671bc3",
   "metadata": {},
   "source": [
    "Test installation:"
   ]
  },
  {
   "cell_type": "code",
   "execution_count": 11,
   "id": "5961073c-2580-4673-9f26-ed34ce130634",
   "metadata": {},
   "outputs": [],
   "source": [
    "from tensorflow import keras\n",
    "from tensorflow.keras.preprocessing.image import ImageDataGenerator\n",
    "from tensorflow.keras.preprocessing.image import img_to_array, load_img\n",
    "from tensorflow.keras import layers, models, optimizers\n",
    "from tensorflow.keras import backend as K"
   ]
  },
  {
   "cell_type": "markdown",
   "id": "713af3f7-c124-4f68-8ae8-4aa2a9713976",
   "metadata": {},
   "source": [
    "<h3>SciPy</h3>"
   ]
  },
  {
   "cell_type": "code",
   "execution_count": 13,
   "id": "4a8d581e-1185-4a55-b4e2-f39c73f76db1",
   "metadata": {},
   "outputs": [
    {
     "name": "stdout",
     "output_type": "stream",
     "text": [
      "Requirement already satisfied: scipy in /usr/local/lib/python3.7/site-packages (1.7.3)\n",
      "Requirement already satisfied: numpy<1.23.0,>=1.16.5 in /usr/local/lib/python3.7/site-packages (from scipy) (1.21.4)\n",
      "\u001b[33mWARNING: Running pip as the 'root' user can result in broken permissions and conflicting behaviour with the system package manager. It is recommended to use a virtual environment instead: https://pip.pypa.io/warnings/venv\u001b[0m\n"
     ]
    }
   ],
   "source": [
    "!pip install scipy"
   ]
  },
  {
   "cell_type": "markdown",
   "id": "556a9d6c-dc32-4734-8c0c-08d66976df7f",
   "metadata": {},
   "source": [
    "<h3>Pycaret</h3>"
   ]
  },
  {
   "cell_type": "markdown",
   "id": "fec74736-3906-4271-87ec-4ca28fdb3476",
   "metadata": {},
   "source": [
    "Install pycaret and dependencies:\n",
    "    \n",
    "takes some time, get some coffee..."
   ]
  },
  {
   "cell_type": "code",
   "execution_count": null,
   "id": "b8398b28-5bf8-40f4-9cf1-e035c7131dd3",
   "metadata": {},
   "outputs": [],
   "source": [
    "# install the full version\n",
    "!pip install pycaret[full]"
   ]
  },
  {
   "cell_type": "markdown",
   "id": "41e0de86-33e5-45e8-9f5f-d749f0cda3f4",
   "metadata": {},
   "source": [
    "Test installation:"
   ]
  },
  {
   "cell_type": "code",
   "execution_count": null,
   "id": "c4a22e9c-aff9-4a55-8e61-be85db079f68",
   "metadata": {},
   "outputs": [],
   "source": [
    "import pycaret"
   ]
  }
 ],
 "metadata": {
  "kernelspec": {
   "display_name": "Python 3 (ipykernel)",
   "language": "python",
   "name": "python3"
  },
  "language_info": {
   "codemirror_mode": {
    "name": "ipython",
    "version": 3
   },
   "file_extension": ".py",
   "mimetype": "text/x-python",
   "name": "python",
   "nbconvert_exporter": "python",
   "pygments_lexer": "ipython3",
   "version": "3.7.12"
  }
 },
 "nbformat": 4,
 "nbformat_minor": 5
}
